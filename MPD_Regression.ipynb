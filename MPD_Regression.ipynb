{
  "nbformat": 4,
  "nbformat_minor": 0,
  "metadata": {
    "colab": {
      "provenance": [],
      "collapsed_sections": [
        "F9BaEYDsTrUS",
        "wIB7KxhRTvCz",
        "HkROEtlvUCYw",
        "a6kWfKhPtxUj"
      ]
    },
    "kernelspec": {
      "name": "python3",
      "display_name": "Python 3"
    },
    "language_info": {
      "name": "python"
    }
  },
  "cells": [
    {
      "cell_type": "markdown",
      "source": [
        "# Acknowledgement: \n",
        "\n",
        "This work was originally from the Regression part of the paper \"Martingale posterior distributions\" by Edwin Fong et. al. \n",
        "\n",
        "Instead of setting up a Jax environment locally, this work shows how to replicate the result using Google Colab, as well as replacing ***jax.ops.index_update*** with ***jax.numpy.ndarray.at*** due to the version difference of Jax on Google Colab.\n",
        "\n",
        "Paper Link: https://arxiv.org/abs/2103.15671\n",
        "\n",
        "Paper Github Link: https://github.com/edfong/MP\n"
      ],
      "metadata": {
        "id": "WniKamAFlXBy"
      }
    },
    {
      "cell_type": "code",
      "source": [
        "import pandas as pd\n",
        "import jax.numpy as jnp\n",
        "from jax import vmap, grad\n",
        "from jax.random import permutation,PRNGKey,split\n",
        "import numpy as np\n",
        "import matplotlib.pyplot as plt\n",
        "import time\n",
        "from jax import custom_jvp,jit\n",
        "from jax.scipy.special import ndtri\n",
        "from jax.scipy.stats import norm,t\n",
        "from scipy.optimize import minimize,root\n",
        "from collections import namedtuple"
      ],
      "metadata": {
        "id": "wroq0el7JP4z"
      },
      "execution_count": 3,
      "outputs": []
    },
    {
      "cell_type": "markdown",
      "source": [
        "##Read dataset"
      ],
      "metadata": {
        "id": "F9BaEYDsTrUS"
      }
    },
    {
      "cell_type": "code",
      "execution_count": 4,
      "metadata": {
        "colab": {
          "base_uri": "https://localhost:8080/"
        },
        "id": "hGniKgo2JPAX",
        "outputId": "8b164cd3-7370-4dae-960f-794265b707cd"
      },
      "outputs": [
        {
          "output_type": "stream",
          "name": "stdout",
          "text": [
            "Dataset: LIDAR\n"
          ]
        }
      ],
      "source": [
        "print('Dataset: LIDAR')\n",
        "DATA_URI = 'http://www.stat.cmu.edu/~larry/all-of-nonpar/=data/lidar.dat'\n",
        "\n",
        "df = pd.read_csv('lidar.dat',delim_whitespace = True)\n",
        "y = df['logratio'].values\n",
        "x = df['range'].values.reshape(-1,1)"
      ]
    },
    {
      "cell_type": "code",
      "source": [
        "df.head()"
      ],
      "metadata": {
        "colab": {
          "base_uri": "https://localhost:8080/",
          "height": 206
        },
        "id": "NXxwrb4bJT3N",
        "outputId": "425fa183-e7bd-4e9e-f244-3ac9c579cf29"
      },
      "execution_count": 5,
      "outputs": [
        {
          "output_type": "execute_result",
          "data": {
            "text/plain": [
              "   range  logratio\n",
              "0    390 -0.050356\n",
              "1    391 -0.060097\n",
              "2    393 -0.041901\n",
              "3    394 -0.050985\n",
              "4    396 -0.059913"
            ],
            "text/html": [
              "\n",
              "  <div id=\"df-315a4097-3e02-47da-81c3-b7fd8299fe1b\">\n",
              "    <div class=\"colab-df-container\">\n",
              "      <div>\n",
              "<style scoped>\n",
              "    .dataframe tbody tr th:only-of-type {\n",
              "        vertical-align: middle;\n",
              "    }\n",
              "\n",
              "    .dataframe tbody tr th {\n",
              "        vertical-align: top;\n",
              "    }\n",
              "\n",
              "    .dataframe thead th {\n",
              "        text-align: right;\n",
              "    }\n",
              "</style>\n",
              "<table border=\"1\" class=\"dataframe\">\n",
              "  <thead>\n",
              "    <tr style=\"text-align: right;\">\n",
              "      <th></th>\n",
              "      <th>range</th>\n",
              "      <th>logratio</th>\n",
              "    </tr>\n",
              "  </thead>\n",
              "  <tbody>\n",
              "    <tr>\n",
              "      <th>0</th>\n",
              "      <td>390</td>\n",
              "      <td>-0.050356</td>\n",
              "    </tr>\n",
              "    <tr>\n",
              "      <th>1</th>\n",
              "      <td>391</td>\n",
              "      <td>-0.060097</td>\n",
              "    </tr>\n",
              "    <tr>\n",
              "      <th>2</th>\n",
              "      <td>393</td>\n",
              "      <td>-0.041901</td>\n",
              "    </tr>\n",
              "    <tr>\n",
              "      <th>3</th>\n",
              "      <td>394</td>\n",
              "      <td>-0.050985</td>\n",
              "    </tr>\n",
              "    <tr>\n",
              "      <th>4</th>\n",
              "      <td>396</td>\n",
              "      <td>-0.059913</td>\n",
              "    </tr>\n",
              "  </tbody>\n",
              "</table>\n",
              "</div>\n",
              "      <button class=\"colab-df-convert\" onclick=\"convertToInteractive('df-315a4097-3e02-47da-81c3-b7fd8299fe1b')\"\n",
              "              title=\"Convert this dataframe to an interactive table.\"\n",
              "              style=\"display:none;\">\n",
              "        \n",
              "  <svg xmlns=\"http://www.w3.org/2000/svg\" height=\"24px\"viewBox=\"0 0 24 24\"\n",
              "       width=\"24px\">\n",
              "    <path d=\"M0 0h24v24H0V0z\" fill=\"none\"/>\n",
              "    <path d=\"M18.56 5.44l.94 2.06.94-2.06 2.06-.94-2.06-.94-.94-2.06-.94 2.06-2.06.94zm-11 1L8.5 8.5l.94-2.06 2.06-.94-2.06-.94L8.5 2.5l-.94 2.06-2.06.94zm10 10l.94 2.06.94-2.06 2.06-.94-2.06-.94-.94-2.06-.94 2.06-2.06.94z\"/><path d=\"M17.41 7.96l-1.37-1.37c-.4-.4-.92-.59-1.43-.59-.52 0-1.04.2-1.43.59L10.3 9.45l-7.72 7.72c-.78.78-.78 2.05 0 2.83L4 21.41c.39.39.9.59 1.41.59.51 0 1.02-.2 1.41-.59l7.78-7.78 2.81-2.81c.8-.78.8-2.07 0-2.86zM5.41 20L4 18.59l7.72-7.72 1.47 1.35L5.41 20z\"/>\n",
              "  </svg>\n",
              "      </button>\n",
              "      \n",
              "  <style>\n",
              "    .colab-df-container {\n",
              "      display:flex;\n",
              "      flex-wrap:wrap;\n",
              "      gap: 12px;\n",
              "    }\n",
              "\n",
              "    .colab-df-convert {\n",
              "      background-color: #E8F0FE;\n",
              "      border: none;\n",
              "      border-radius: 50%;\n",
              "      cursor: pointer;\n",
              "      display: none;\n",
              "      fill: #1967D2;\n",
              "      height: 32px;\n",
              "      padding: 0 0 0 0;\n",
              "      width: 32px;\n",
              "    }\n",
              "\n",
              "    .colab-df-convert:hover {\n",
              "      background-color: #E2EBFA;\n",
              "      box-shadow: 0px 1px 2px rgba(60, 64, 67, 0.3), 0px 1px 3px 1px rgba(60, 64, 67, 0.15);\n",
              "      fill: #174EA6;\n",
              "    }\n",
              "\n",
              "    [theme=dark] .colab-df-convert {\n",
              "      background-color: #3B4455;\n",
              "      fill: #D2E3FC;\n",
              "    }\n",
              "\n",
              "    [theme=dark] .colab-df-convert:hover {\n",
              "      background-color: #434B5C;\n",
              "      box-shadow: 0px 1px 3px 1px rgba(0, 0, 0, 0.15);\n",
              "      filter: drop-shadow(0px 1px 2px rgba(0, 0, 0, 0.3));\n",
              "      fill: #FFFFFF;\n",
              "    }\n",
              "  </style>\n",
              "\n",
              "      <script>\n",
              "        const buttonEl =\n",
              "          document.querySelector('#df-315a4097-3e02-47da-81c3-b7fd8299fe1b button.colab-df-convert');\n",
              "        buttonEl.style.display =\n",
              "          google.colab.kernel.accessAllowed ? 'block' : 'none';\n",
              "\n",
              "        async function convertToInteractive(key) {\n",
              "          const element = document.querySelector('#df-315a4097-3e02-47da-81c3-b7fd8299fe1b');\n",
              "          const dataTable =\n",
              "            await google.colab.kernel.invokeFunction('convertToInteractive',\n",
              "                                                     [key], {});\n",
              "          if (!dataTable) return;\n",
              "\n",
              "          const docLinkHtml = 'Like what you see? Visit the ' +\n",
              "            '<a target=\"_blank\" href=https://colab.research.google.com/notebooks/data_table.ipynb>data table notebook</a>'\n",
              "            + ' to learn more about interactive tables.';\n",
              "          element.innerHTML = '';\n",
              "          dataTable['output_type'] = 'display_data';\n",
              "          await google.colab.output.renderOutput(dataTable, element);\n",
              "          const docLink = document.createElement('div');\n",
              "          docLink.innerHTML = docLinkHtml;\n",
              "          element.appendChild(docLink);\n",
              "        }\n",
              "      </script>\n",
              "    </div>\n",
              "  </div>\n",
              "  "
            ]
          },
          "metadata": {},
          "execution_count": 5
        }
      ]
    },
    {
      "cell_type": "code",
      "source": [
        "y =(y-np.mean(y))/jnp.std(y)\n",
        "x = (x - np.mean(x,axis = 0))/np.std(x,axis = 0)"
      ],
      "metadata": {
        "colab": {
          "base_uri": "https://localhost:8080/"
        },
        "id": "Im2jzxE1LLTE",
        "outputId": "32688e95-ff19-456c-a071-4c23cc454c26"
      },
      "execution_count": 6,
      "outputs": [
        {
          "output_type": "stream",
          "name": "stderr",
          "text": [
            "WARNING:jax._src.lib.xla_bridge:No GPU/TPU found, falling back to CPU. (Set TF_CPP_MIN_LOG_LEVEL=0 and rerun for more info.)\n"
          ]
        }
      ]
    },
    {
      "cell_type": "code",
      "source": [
        "np.savetxt(\"lidar_x.csv\",x,delimiter = ',')\n",
        "np.savetxt(\"lidar_y.csv\",y,delimiter = ',')"
      ],
      "metadata": {
        "id": "SFSdBAym2GzP"
      },
      "execution_count": 7,
      "outputs": []
    },
    {
      "cell_type": "code",
      "source": [
        "plt.scatter(x,y, s= 2)\n",
        "plt.xlabel('Standardized range')\n",
        "plt.ylabel('Standardized log ratio')\n",
        "plt.title('Standardized LIDAR Dataset')"
      ],
      "metadata": {
        "colab": {
          "base_uri": "https://localhost:8080/",
          "height": 313
        },
        "id": "DQ_r-1IDKVKR",
        "outputId": "c807ccbf-4f14-4fdf-da31-f17268c19c7e"
      },
      "execution_count": 8,
      "outputs": [
        {
          "output_type": "execute_result",
          "data": {
            "text/plain": [
              "Text(0.5, 1.0, 'Standardized LIDAR Dataset')"
            ]
          },
          "metadata": {},
          "execution_count": 8
        },
        {
          "output_type": "display_data",
          "data": {
            "text/plain": [
              "<Figure size 432x288 with 1 Axes>"
            ],
            "image/png": "[encoded data removed]"
          },
          "metadata": {
            "needs_background": "light"
          }
        }
      ]
    },
    {
      "cell_type": "markdown",
      "source": [
        "## init"
      ],
      "metadata": {
        "id": "wIB7KxhRTvCz"
      }
    },
    {
      "cell_type": "code",
      "source": [
        "y_plot = np.linspace(-3.0,2.0,num = 200)\n",
        "n_plot_y = np.shape(y_plot)[0]\n",
        "dy = y_plot[1] - y_plot[0]\n",
        "\n",
        "x_plot = np.linspace(jnp.min(x),jnp.max(x),num = 40)\n",
        "n_plot_x = np.shape(x_plot)[0]\n",
        "dx = x_plot[1] - x_plot[0]\n",
        "\n",
        "n = jnp.shape(y)[0]\n",
        "n_plot_marg = np.array([jnp.shape(x_plot)[0],jnp.shape(y_plot)[0]])\n",
        "\n",
        "xlim = (-2.0,2.0)\n",
        "ylim = (-2.5,1.7)\n",
        "\n",
        "z_plot_grid = np.meshgrid(x_plot,y_plot)\n",
        "x_plot_ravel = z_plot_grid[0].ravel().reshape(-1,1)\n",
        "y_plot_ravel = z_plot_grid[1].ravel()\n"
      ],
      "metadata": {
        "id": "xLHzF-V3T9mF"
      },
      "execution_count": 9,
      "outputs": []
    },
    {
      "cell_type": "markdown",
      "source": [
        "## Joint Method"
      ],
      "metadata": {
        "id": "HkROEtlvUCYw"
      }
    },
    {
      "cell_type": "markdown",
      "source": [
        "### Helper Functions for $\\texttt{fit_copula_jregression}$"
      ],
      "metadata": {
        "id": "5gCHGbvgUWSw"
      }
    },
    {
      "cell_type": "code",
      "source": [
        "@custom_jvp \n",
        "def ndtri_(u):\n",
        "    return ndtri(u)\n",
        "@ndtri_.defjvp\n",
        "def f_jvp(primals, tangents):\n",
        "    u, = primals\n",
        "    u_dot, = tangents\n",
        "    primal_out = ndtri_(u)\n",
        "    tangent_out = (1/norm.pdf(primal_out))*u_dot\n",
        "    return primal_out, tangent_out\n",
        "ndtri_ = jit(ndtri_)\n",
        "\n",
        "#Custom derivatives for logPhi to speed up autograd\n",
        "@custom_jvp\n",
        "def norm_logcdf(z):\n",
        "    return norm.logcdf(z)\n",
        "@norm_logcdf.defjvp\n",
        "def f_jvp(primals, tangents):\n",
        "    z, = primals\n",
        "    z_dot, = tangents\n",
        "    primal_out = norm_logcdf(z)\n",
        "    tangent_out = jnp.exp(norm.logpdf(z)-primal_out)*z_dot\n",
        "    return primal_out, tangent_out\n",
        "norm_logcdf = jit(norm_logcdf)\n",
        "\n",
        "\n",
        "@jit\n",
        "def norm_copula_logdistribution_logdensity(u,v,rho):\n",
        "    #clip to prevent 0s and 1s in CDF, needed for numerical stability in high d.\n",
        "    eps = 1e-6\n",
        "    u = jnp.clip(u,eps,1-eps) \n",
        "    v = jnp.clip(v,eps,1-eps)\n",
        "    \n",
        "    #for reverse mode\n",
        "    pu = ndtri_(u)\n",
        "    pv = ndtri_(v)\n",
        "    z = (pu - rho*pv)/jnp.sqrt(1- rho**2)\n",
        "\n",
        "    logcop_dist = norm_logcdf(z)\n",
        "    logcop_dist = jnp.clip(logcop_dist,jnp.log(eps),jnp.log(1-eps))\n",
        "    logcop_dens = -0.5*jnp.log(1-rho**2) + (0.5/(1-rho**2))*(-(rho**2)*(pu**2 + pv**2)+ 2*rho*pu*pv)\n",
        "\n",
        "    return logcop_dist,logcop_dens\n",
        "### ###"
      ],
      "metadata": {
        "id": "t2h7WC66XC8F"
      },
      "execution_count": 10,
      "outputs": []
    },
    {
      "cell_type": "code",
      "source": [
        "def update_copula_single(logcdf_conditionals,logpdf_joints,u,v,logalpha,rho): \n",
        "    d = jnp.shape(logpdf_joints)[0]\n",
        "\n",
        "    logcop_distribution,logcop_dens = norm_copula_logdistribution_logdensity(u,v,rho)\n",
        "\n",
        "    #Calculate product copulas\n",
        "    logcop_dens_prod = jnp.cumsum(logcop_dens)\n",
        "\n",
        "    #staggered 1 step to calculate conditional cdfs\n",
        "    logcop_dens_prod_staggered = jnp.concatenate((jnp.zeros(1),logcop_dens_prod[0:d-1]))\n",
        "\n",
        "    log1alpha = jnp.log1p(-jnp.exp(logalpha))\n",
        "\n",
        "    logcdf_conditionals = jnp.logaddexp((log1alpha + logcdf_conditionals),(logalpha + logcop_dens_prod_staggered + logcop_distribution))\\\n",
        "                           -jnp.logaddexp(log1alpha,(logalpha+logcop_dens_prod_staggered))\n",
        "\n",
        "    logpdf_joints = jnp.logaddexp(log1alpha, (logalpha+logcop_dens_prod))+logpdf_joints     \n",
        "\n",
        "    return logcdf_conditionals,logpdf_joints\n",
        "\n",
        "update_copula = jit(vmap(update_copula_single,(0,0,0,None,None,None))) \n",
        "\n"
      ],
      "metadata": {
        "id": "ea69jw_jW3VD"
      },
      "execution_count": 11,
      "outputs": []
    },
    {
      "cell_type": "code",
      "source": [
        "from jax.lax import fori_loop,scan\n",
        "\n",
        "def init_marginals_single(y_test):\n",
        "    d = jnp.shape(y_test)[0]\n",
        "\n",
        "    #initialize\n",
        "    logcdf_init_marginals = jnp.zeros(d)\n",
        "    logpdf_init_marginals = jnp.zeros(d)\n",
        "\n",
        "    logcdf_init_conditionals = jnp.zeros(d)\n",
        "    logpdf_init_joints = jnp.ones(d)\n",
        "\n",
        "    ##CONTINUOUS CASE\n",
        "    #normal(0,1)\n",
        "    mean0 = 0.\n",
        "    std0 = 1.\n",
        "\n",
        "    logcdf_init_marginals = norm.logcdf(y_test,loc = mean0,scale = std0)#marginal initial cdfs\n",
        "    logpdf_init_marginals= norm.logpdf(y_test,loc = mean0,scale = std0) #marginal initial pdfs\n",
        "\n",
        "    #clip outliers\n",
        "    eps = 1e-6\n",
        "    logcdf_init_marginals = jnp.clip(logcdf_init_marginals,jnp.log(eps),jnp.log(1-eps))\n",
        "    logpdf_init_marginals =jnp.clip(logpdf_init_marginals, jnp.log(eps),jnp.inf)\n",
        "    ##\n",
        "    \n",
        "    #Joint/conditional from marginals\n",
        "    logpdf_init_joints= jnp.cumsum(logpdf_init_marginals)\n",
        "    logcdf_init_conditionals= logcdf_init_marginals\n",
        "\n",
        "    return  logcdf_init_conditionals,logpdf_init_joints\n",
        "init_marginals = jit(vmap(init_marginals_single,(0)))\n",
        "\n",
        "@jit\n",
        "def update_pn(carry,i):\n",
        "    vn,logcdf_conditionals_yn,logpdf_joints_yn,preq_loglik,rho = carry\n",
        "    n = jnp.shape(logcdf_conditionals_yn)[0]\n",
        "    d = jnp.shape(logcdf_conditionals_yn)[1]\n",
        "\n",
        "    logalpha = jnp.log(2.- (1/(i+1))) - jnp.log(i+2)\n",
        "\n",
        "    u = jnp.exp(logcdf_conditionals_yn)\n",
        "    v = jnp.exp(logcdf_conditionals_yn[i])\n",
        "\n",
        "    #vn = index_update(vn,i,v) #remember history of vn\n",
        "    vn = vn.at[i].set(v)\n",
        " \n",
        "    #preq_loglik = index_update(preq_loglik,i,logpdf_joints_yn[i,-2:])\n",
        "    preq_loglik = preq_loglik.at[i].set(logpdf_joints_yn[i,-2:])\n",
        "\n",
        "    logcdf_conditionals_yn,logpdf_joints_yn= update_copula(logcdf_conditionals_yn,logpdf_joints_yn,u,v,logalpha,rho)\n",
        "\n",
        "    carry = vn,logcdf_conditionals_yn,logpdf_joints_yn,preq_loglik,rho\n",
        "    return carry,i\n",
        "\n",
        "\n",
        "@jit\n",
        "def update_pn_scan(carry,rng):\n",
        "    return scan(update_pn,carry,rng)\n",
        "\n",
        "@jit\n",
        "def update_pn_loop(rho,y):\n",
        "    n = jnp.shape(y)[0]\n",
        "    d = jnp.shape(y)[1]\n",
        "\n",
        "    preq_loglik = jnp.zeros((n,2)) #prequential joint loglik for each d,d-1 (density estimation and regression)\n",
        "    vn = jnp.zeros((n,d)) #conditional cdf history of xn, no need to differentiate wrt\n",
        "\n",
        "        #initialize cdf/pdf\n",
        "    logcdf_conditionals_yn, logpdf_joints_yn= init_marginals(y)\n",
        "\n",
        "    carry = vn,logcdf_conditionals_yn,logpdf_joints_yn,preq_loglik,rho\n",
        "    rng = jnp.arange(n)\n",
        "    carry,rng = update_pn_scan(carry,rng)\n",
        "\n",
        "    vn,logcdf_conditionals_yn,logpdf_joints_yn,preq_loglik,*_ = carry\n",
        "    return vn,logcdf_conditionals_yn,logpdf_joints_yn,preq_loglik\n",
        "\n",
        "# Compute conditional marginal likelihood (using multivariate copula density method)\n",
        "@jit\n",
        "def negpreq_jconditloglik_perm(hyperparam,z_perm):\n",
        "    rho = 1/(1+jnp.exp(hyperparam)) #force 0 <rho<1\n",
        "\n",
        "    n = jnp.shape(z_perm)[1]\n",
        "    d = jnp.shape(z_perm)[2]\n",
        "\n",
        "    #Compute v_{1:n} and prequential loglik\n",
        "    @jit\n",
        "    def update_pn_loop(rho,y):\n",
        "        n = jnp.shape(y)[0]\n",
        "        d = jnp.shape(y)[1]\n",
        "\n",
        "        preq_loglik = jnp.zeros((n,2)) #prequential joint loglik for each d,d-1 (density estimation and regression)\n",
        "        vn = jnp.zeros((n,d)) #conditional cdf history of xn, no need to differentiate wrt\n",
        "\n",
        "        #initialize cdf/pdf\n",
        "        logcdf_conditionals_yn, logpdf_joints_yn= init_marginals(y)\n",
        "\n",
        "        carry = vn,logcdf_conditionals_yn,logpdf_joints_yn,preq_loglik,rho\n",
        "        rng = jnp.arange(n)\n",
        "        carry,rng = update_pn_scan(carry,rng)\n",
        "\n",
        "        vn,logcdf_conditionals_yn,logpdf_joints_yn,preq_loglik,*_ = carry\n",
        "\n",
        "        return vn,logcdf_conditionals_yn,logpdf_joints_yn,preq_loglik\n",
        "    update_pn_loop_perm = jit(vmap(update_pn_loop,(None,0)))\n",
        "    vn,logcdf_conditionals_yn,logpdf_joints_yn,preq_loglik = update_pn_loop_perm(rho,z_perm)\n",
        "\n",
        "    #Average over permutations\n",
        "    preq_conditloglik = preq_loglik[:,:,-1]-preq_loglik[:,:,-2]\n",
        "    preq_conditloglik = jnp.mean(preq_conditloglik,axis = 0)\n",
        "\n",
        "    #Sum prequential terms\n",
        "    preq_conditloglik = jnp.sum(preq_conditloglik) # look at conditional pdf\n",
        "    return -preq_conditloglik/n\n",
        "\n",
        "def fun_jcll_perm_sp(hyperparam,z):\n",
        "    return np.array(negpreq_jconditloglik_perm(hyperparam,z))"
      ],
      "metadata": {
        "id": "1k6bTp_hYBsY"
      },
      "execution_count": 12,
      "outputs": []
    },
    {
      "cell_type": "code",
      "source": [
        "grad_jcll_perm = jit(grad(negpreq_jconditloglik_perm))\n",
        "\n",
        "def grad_jcll_perm_sp(hyperparam,z):\n",
        "    return np.array(grad_jcll_perm(hyperparam,z)) ####\n",
        "\n",
        "update_pn_loop_perm = jit(vmap(update_pn_loop,(None,None,0,0)))"
      ],
      "metadata": {
        "id": "26xNUoiLeSNr"
      },
      "execution_count": 13,
      "outputs": []
    },
    {
      "cell_type": "code",
      "source": [
        "def fit_copula_jregression(y,x,n_perm = 10, seed = 20,n_perm_optim = None, single_bandwidth = True):\n",
        "    #Set seed for scipy\n",
        "    np.random.seed(seed)\n",
        "    \n",
        "    #Combine x,y\n",
        "    z = jnp.concatenate((x,y.reshape(-1,1)), axis = 1)\n",
        "\n",
        "    #Generate random permutations\n",
        "    key = PRNGKey(seed)\n",
        "    key,*subkey = split(key,n_perm +1 )\n",
        "    subkey = jnp.array(subkey)\n",
        "    z_perm = vmap(permutation,(0,None))(subkey,z)\n",
        "\n",
        "    #Initialize parameter and put on correct scale to lie in [0,1]\n",
        "    d = jnp.shape(z)[1]\n",
        "\n",
        "    if single_bandwidth == True:\n",
        "        rho_init = 0.9*jnp.ones(1)\n",
        "    else:\n",
        "        rho_init = 0.9*jnp.ones(d) \n",
        "    hyperparam_init = jnp.log(1/rho_init - 1) \n",
        "\n",
        "\n",
        "    #calculate rho_opt\n",
        "    #either use all permutations or a selected number to fit bandwidth\n",
        "    if n_perm_optim is None:\n",
        "        z_perm_opt = z_perm\n",
        "    else:\n",
        "        z_perm_opt = z_perm[0:n_perm_optim]\n",
        "\n",
        "    #Compiling\n",
        "    print('Compiling...')\n",
        "    start = time.time()\n",
        "\n",
        "    #Condit\n",
        "    temp = fun_jcll_perm_sp(hyperparam_init,z_perm_opt)\n",
        "    temp = grad_jcll_perm_sp(hyperparam_init,z_perm_opt)\n",
        "\n",
        "    update_pn_loop_perm = jit(vmap(update_pn_loop,(None,0)))\n",
        "    temp = update_pn_loop_perm(rho_init,z_perm)[0].block_until_ready()\n",
        "    end = time.time()\n",
        "    print('Compilation time: {}s'.format(round(end-start, 3)))\n",
        "\n",
        "    print('Optimizing...')\n",
        "    start = time.time()\n",
        "    # Condit preq loglik\n",
        "    opt = minimize(fun = fun_jcll_perm_sp, x0= hyperparam_init,\\\n",
        "                     args = (z_perm_opt),jac =grad_jcll_perm_sp,method = 'SLSQP') \n",
        "\n",
        "    #check optimization succeeded\n",
        "    if opt.success == False:\n",
        "        print('Optimization failed')\n",
        "\n",
        "    #unscale hyperparameter\n",
        "    hyperparam_opt = opt.x\n",
        "    print(hyperparam_opt)\n",
        "    rho_opt = 1/(1+jnp.exp(hyperparam_opt))\n",
        "    end = time.time()\n",
        "\n",
        "    print('Optimization time: {}s'.format(round(end-start, 3)))\n",
        "        \n",
        "    print('Fitting...')\n",
        "    start = time.time()\n",
        "    vn_perm= update_pn_loop_perm(rho_opt,z_perm)[0].block_until_ready()\n",
        "    end = time.time()\n",
        "    print('Fit time: {}s'.format(round(end-start, 3)))\n",
        "\n",
        "    copula_jregression_obj = namedtuple('copula_jregression_obj',['vn_perm','rho_opt','preq_loglik'])\n",
        "    return copula_jregression_obj(vn_perm,rho_opt,-opt.fun)\n"
      ],
      "metadata": {
        "id": "MA8D-T64UVgQ"
      },
      "execution_count": 14,
      "outputs": []
    },
    {
      "cell_type": "markdown",
      "source": [
        "### Helper Functions for $\\texttt{predict_copula_jregression}$"
      ],
      "metadata": {
        "id": "a6kWfKhPtxUj"
      }
    },
    {
      "cell_type": "code",
      "source": [
        "from jax.scipy.special import logsumexp"
      ],
      "metadata": {
        "id": "VoZ65y0NvsXk"
      },
      "execution_count": 15,
      "outputs": []
    },
    {
      "cell_type": "code",
      "source": [
        "@jit\n",
        "def update_ptest_single(carry,i):\n",
        "    vn,logcdf_conditionals_ytest,logpdf_joints_ytest,rho = carry\n",
        "\n",
        "    logalpha = jnp.log(2.- (1/(i+1))) - jnp.log(i+2)\n",
        "\n",
        "    u = jnp.exp(logcdf_conditionals_ytest)\n",
        "    v = vn[i]\n",
        "\n",
        "    logcdf_conditionals_ytest,logpdf_joints_ytest= update_copula_single(logcdf_conditionals_ytest,logpdf_joints_ytest,u,v,logalpha,rho)\n",
        "\n",
        "    carry = vn,logcdf_conditionals_ytest,logpdf_joints_ytest,rho\n",
        "    return carry,i\n",
        "\n",
        "@jit\n",
        "def update_ptest_single_scan(carry,rng):\n",
        "    return scan(update_ptest_single,carry,rng)\n",
        "\n",
        "@jit\n",
        "def update_ptest_single_loop(vn,rho,y_test):\n",
        "    n = jnp.shape(vn)[0]\n",
        "\n",
        "    logcdf_conditionals_ytest, logpdf_joints_ytest= init_marginals_single(y_test)\n",
        "\n",
        "    carry = vn,logcdf_conditionals_ytest,logpdf_joints_ytest,rho\n",
        "    rng = jnp.arange(n)\n",
        "    carry,rng = update_ptest_single_scan(carry,rng)\n",
        "    vn,logcdf_conditionals_ytest,logpdf_joints_ytest,rho = carry\n",
        "\n",
        "    return logcdf_conditionals_ytest,logpdf_joints_ytest\n",
        "\n",
        "update_ptest_single_loop_perm = jit(vmap(update_ptest_single_loop,(0,None,None))) #vmap over vn_perm\n",
        "\n",
        "@jit\n",
        "def update_ptest_single_loop_perm_av(vn_perm,rho,y_test):\n",
        "    n_perm = jnp.shape(vn_perm)[0]\n",
        "    update_ptest_single_loop_perm = jit(vmap(update_ptest_single_loop,(0,None,None))) #vmap over vn_perm\n",
        "\n",
        "    logcdf_conditionals, logpdf_joints = update_ptest_single_loop_perm(vn_perm,rho,y_test)\n",
        "    logcdf_conditionals = logsumexp(logcdf_conditionals,axis = 0) - jnp.log(n_perm)\n",
        "    logpdf_joints = logsumexp(logpdf_joints,axis = 0) - jnp.log(n_perm)\n",
        "    return logcdf_conditionals,logpdf_joints\n",
        "\n",
        "#Vmap over multiple test points\n",
        "update_ptest_loop_perm_av = jit(vmap(update_ptest_single_loop_perm_av,(None,None,0)))\n",
        "\n",
        "def predict_copula_jregression(copula_jregression_obj,y_test,x_test):\n",
        "    #Combine x,y\n",
        "    z_test = jnp.concatenate((x_test,y_test.reshape(-1,1)), axis = 1)\n",
        "\n",
        "    print('Predicting...')\n",
        "    start = time.time()\n",
        "    update_ptest_loop_perm_av = jit(vmap(update_ptest_single_loop_perm_av,(None,None,0)))\n",
        "    logcdf_conditionals,logpdf_joints = update_ptest_loop_perm_av(copula_jregression_obj.vn_perm,copula_jregression_obj.rho_opt,z_test)\n",
        "    logcdf_conditionals = logcdf_conditionals.block_until_ready() #for accurate timing\n",
        "    end = time.time()\n",
        "    print('Prediction time: {}s'.format(round(end-start, 3)))\n",
        "    return logcdf_conditionals,logpdf_joints"
      ],
      "metadata": {
        "id": "ivCy8dxttwuA"
      },
      "execution_count": 16,
      "outputs": []
    },
    {
      "cell_type": "markdown",
      "source": [
        "### JOINT COPULA METHOD"
      ],
      "metadata": {
        "id": "Ab__um5VUYpy"
      }
    },
    {
      "cell_type": "code",
      "source": [
        "### JOINT COPULA METHOD ###\n",
        "print('Method: Joint Copula')\n",
        "#fit copula obj\n",
        "# The bandwidth rho controls the smoothness of the density function\n",
        "copula_jregression_obj = fit_copula_jregression(y,x,seed = 200,single_bandwidth = False,n_perm_optim = 10)\n",
        "print('Bandwidth is {}'.format(copula_jregression_obj.rho_opt))\n",
        "print('Preq loglik is {}'.format(copula_jregression_obj.preq_loglik))\n",
        "\n"
      ],
      "metadata": {
        "colab": {
          "base_uri": "https://localhost:8080/"
        },
        "id": "PhIcSE8MKxTW",
        "outputId": "f8f40fa2-91bf-4d4b-fb67-3608d02d4aa9"
      },
      "execution_count": 17,
      "outputs": [
        {
          "output_type": "stream",
          "name": "stdout",
          "text": [
            "Method: Joint Copula\n",
            "Compiling...\n",
            "Compilation time: 12.123s\n",
            "Optimizing...\n",
            "[-2.16822804 -1.55357928]\n",
            "Optimization time: 8.891s\n",
            "Fitting...\n",
            "Fit time: 0.296s\n",
            "Bandwidth is [0.89735985 0.82543004]\n",
            "Preq loglik is -0.02791491150856018\n"
          ]
        }
      ]
    },
    {
      "cell_type": "code",
      "source": [
        "#predict yplot\n",
        "logcdf_conditionals,logpdf_joints = predict_copula_jregression(copula_jregression_obj,y_plot_ravel,x_plot_ravel)\n",
        "\n",
        "## Compute predictive means and quantiles\n",
        "pdf_cop_condj = jnp.exp(logpdf_joints[:,-1]- logpdf_joints[:,-2])\n",
        "cdf_cop_condj = jnp.exp(logcdf_conditionals[:,-1])\n",
        "cdf_condj_plot = cdf_cop_condj.reshape(n_plot_marg[1],n_plot_marg[0])\n",
        "pdf_condj_plot = pdf_cop_condj.reshape(n_plot_marg[1],n_plot_marg[0])\n",
        "\n",
        "jnp.save('jcopula_lidar_pdf_plot',pdf_condj_plot)\n",
        "jnp.save('jcopula_lidar_cdf_plot',cdf_condj_plot)"
      ],
      "metadata": {
        "colab": {
          "base_uri": "https://localhost:8080/"
        },
        "id": "T8kL7RSGfLWx",
        "outputId": "82ab2aad-b0db-4892-fdbe-28a92cf7bc7f"
      },
      "execution_count": 18,
      "outputs": [
        {
          "output_type": "stream",
          "name": "stdout",
          "text": [
            "Predicting...\n",
            "Prediction time: 14.215s\n"
          ]
        }
      ]
    },
    {
      "cell_type": "code",
      "source": [
        "#Load predictive densities\n",
        "pdf_cop_condj = np.load('jcopula_lidar_pdf_plot.npy')\n",
        "cdf_cop_condj = np.load('jcopula_lidar_cdf_plot.npy')\n",
        "\n",
        "\n",
        "#preprocess\n",
        "cdf_condj_plot = cdf_cop_condj.reshape(n_plot_marg[1],n_plot_marg[0])\n",
        "pdf_condj_plot = pdf_cop_condj.reshape(n_plot_marg[1],n_plot_marg[0])\n",
        "\n",
        "n_plot_x = np.shape(x_plot)[0]\n",
        "\n",
        "bot25_joint = np.zeros(n_plot_x)\n",
        "top25_joint = np.zeros(n_plot_x)\n",
        "mean_cop_joint = np.zeros(n_plot_x)\n",
        "\n",
        "for j in range(n_plot_x):\n",
        "    bot25_joint[j] =y_plot[np.searchsorted(cdf_condj_plot[:,j],0.025)-1]\n",
        "    top25_joint[j] =y_plot[np.searchsorted(cdf_condj_plot[:,j],0.975)-1]\n",
        "    mean_cop_joint[j] = np.sum(pdf_condj_plot[:,j]*y_plot*dy)\n",
        "\n",
        "    \n",
        "#plot\n",
        "f = plt.figure(figsize = (14,10))\n",
        "#plt.subplot(1,2,1)\n",
        "plt.plot(x_plot,mean_cop_joint,color = 'k',label = 'Posterior mean')\n",
        "plt.fill_between(x_plot, bot25_joint, top25_joint, alpha = 0.2, label = '95% predictive interval',color = 'grey')\n",
        "plt.scatter(x,y,label = 'Data',s = 5,color = 'grey')\n",
        "plt.xlabel('$x$\\n \\n(a)',fontsize = 12)\n",
        "plt.ylabel('$y$',fontsize = 12)\n",
        "plt.xticks(fontsize=12)\n",
        "plt.yticks(fontsize = 12)\n",
        "plt.ylim(ylim)\n",
        "plt.xlim(xlim)\n",
        "plt.title('Joint Copula Regression Method',fontsize = 13)\n",
        "#plt.legend(loc = 3)"
      ],
      "metadata": {
        "colab": {
          "base_uri": "https://localhost:8080/",
          "height": 675
        },
        "id": "rwRDNXsCwIIH",
        "outputId": "edb3ceb1-7cbc-430c-effd-e275d339e1fd"
      },
      "execution_count": 19,
      "outputs": [
        {
          "output_type": "execute_result",
          "data": {
            "text/plain": [
              "Text(0.5, 1.0, 'Joint Copula Regression Method')"
            ]
          },
          "metadata": {},
          "execution_count": 19
        },
        {
          "output_type": "display_data",
          "data": {
            "text/plain": [
              "<Figure size 1008x720 with 1 Axes>"
            ],
            "image/png": "[encoded data removed]"
          },
          "metadata": {
            "needs_background": "light"
          }
        }
      ]
    },
    {
      "cell_type": "markdown",
      "source": [
        "## Conditonal Method"
      ],
      "metadata": {
        "id": "zx8Mpjcx2Ir0"
      }
    },
    {
      "cell_type": "markdown",
      "source": [
        "###Helper Functions for $\\texttt{fit_copula_cregression}$\n"
      ],
      "metadata": {
        "id": "KJxDzwvI96o_"
      }
    },
    {
      "cell_type": "code",
      "source": [
        "@custom_jvp \n",
        "def ndtri_(u):\n",
        "    return ndtri(u)\n",
        "@ndtri_.defjvp\n",
        "def f_jvp(primals, tangents):\n",
        "    u, = primals\n",
        "    u_dot, = tangents\n",
        "    primal_out = ndtri_(u)\n",
        "    tangent_out = (1/norm.pdf(primal_out))*u_dot\n",
        "    return primal_out, tangent_out\n",
        "ndtri_ = jit(ndtri_)\n",
        "\n",
        "#Custom derivatives for logPhi to speed up autograd\n",
        "@custom_jvp\n",
        "def norm_logcdf(z):\n",
        "    return norm.logcdf(z)\n",
        "@norm_logcdf.defjvp\n",
        "def f_jvp(primals, tangents):\n",
        "    z, = primals\n",
        "    z_dot, = tangents\n",
        "    primal_out = norm_logcdf(z)\n",
        "    tangent_out = jnp.exp(norm.logpdf(z)-primal_out)*z_dot\n",
        "    return primal_out, tangent_out\n",
        "norm_logcdf = jit(norm_logcdf)\n",
        "\n",
        "\n",
        "@jit\n",
        "def norm_copula_logdistribution_logdensity(u,v,rho):\n",
        "    #clip to prevent 0s and 1s in CDF, needed for numerical stability in high d.\n",
        "    eps = 1e-6\n",
        "    u = jnp.clip(u,eps,1-eps) \n",
        "    v = jnp.clip(v,eps,1-eps)\n",
        "    \n",
        "    #for reverse mode\n",
        "    pu = ndtri_(u)\n",
        "    pv = ndtri_(v)\n",
        "    z = (pu - rho*pv)/jnp.sqrt(1- rho**2)\n",
        "\n",
        "    logcop_dist = norm_logcdf(z)\n",
        "    logcop_dist = jnp.clip(logcop_dist,jnp.log(eps),jnp.log(1-eps))\n",
        "    logcop_dens = -0.5*jnp.log(1-rho**2) + (0.5/(1-rho**2))*(-(rho**2)*(pu**2 + pv**2)+ 2*rho*pu*pv)\n",
        "\n",
        "    return logcop_dist,logcop_dens\n",
        "\n",
        "def update_copula_single(logcdf_conditionals,logpdf_joints,u,v,logalpha,rho): \n",
        "    d = jnp.shape(logpdf_joints)[0]\n",
        "\n",
        "    logcop_distribution,logcop_dens = norm_copula_logdistribution_logdensity(u,v,rho)\n",
        "\n",
        "    #Calculate product copulas\n",
        "    logcop_dens_prod = jnp.cumsum(logcop_dens)\n",
        "\n",
        "    #staggered 1 step to calculate conditional cdfs\n",
        "    logcop_dens_prod_staggered = jnp.concatenate((jnp.zeros(1),logcop_dens_prod[0:d-1]))\n",
        "\n",
        "    log1alpha = jnp.log1p(-jnp.exp(logalpha))\n",
        "\n",
        "    logcdf_conditionals = jnp.logaddexp((log1alpha + logcdf_conditionals),(logalpha + logcop_dens_prod_staggered + logcop_distribution))\\\n",
        "                           -jnp.logaddexp(log1alpha,(logalpha+logcop_dens_prod_staggered))\n",
        "\n",
        "    logpdf_joints = jnp.logaddexp(log1alpha, (logalpha+logcop_dens_prod))+logpdf_joints     \n",
        "\n",
        "    return logcdf_conditionals,logpdf_joints\n",
        "\n",
        "update_copula = jit(vmap(update_copula_single,(0,0,0,None,0,None))) \n",
        "\n",
        "@jit\n",
        "def calc_logkxx_single(x,x_new,rho_x):\n",
        "    logk_xx = -0.5*jnp.sum(jnp.log(1-rho_x**2)) -jnp.sum((0.5/(1-rho_x**2))*(((rho_x**2)*(x**2 + x_new**2) - 2*rho_x*x*x_new)))\n",
        "    return logk_xx\n",
        "calc_logkxx = jit(vmap(calc_logkxx_single,(0,None,None)))\n",
        "\n",
        "@jit\n",
        "def update_pn(carry,i):\n",
        "    vn,logcdf_conditionals_yn,logpdf_joints_yn,preq_loglik,x,rho,rho_x = carry\n",
        "\n",
        "    #Compute new x\n",
        "    x_new = x[i]\n",
        "    logalpha = jnp.log(2.- (1/(i+1)))-jnp.log(i+2)\n",
        "\n",
        "    #compute x rhos/alphas\n",
        "    logk_xx = calc_logkxx(x,x_new,rho_x)\n",
        "    logalphak_xx = logalpha + logk_xx\n",
        "    log1alpha = jnp.log1p(-jnp.exp(logalpha))\n",
        "    logalpha_x = (logalphak_xx) - (jnp.logaddexp(log1alpha,logalphak_xx)) #alpha*k_xx /(1-alpha + alpha*k_xx)\n",
        "\n",
        "    #clip for numerical stability to prevent NaNs\n",
        "    eps = 1e-5 #1e-6 causes optimization to fail\n",
        "    logalpha_x = jnp.clip(logalpha_x,jnp.log(eps),jnp.log(1-eps))\n",
        "\n",
        "    u = jnp.exp(logcdf_conditionals_yn)\n",
        "    v = jnp.exp(logcdf_conditionals_yn[i])\n",
        "\n",
        "    #vn = index_update(vn,i,v) #remember history of vn\n",
        "    vn = vn.at[i].set(v)\n",
        " \n",
        "    #preq_loglik = index_update(preq_loglik,i,logpdf_joints_yn[i,-1])\n",
        "    preq_loglik = preq_loglik.at[i].set(logpdf_joints_yn[i,-1])\n",
        "    \n",
        "    logcdf_conditionals_yn,logpdf_joints_yn= update_copula(logcdf_conditionals_yn,logpdf_joints_yn,u,v,logalpha_x,rho)\n",
        "    carry = vn,logcdf_conditionals_yn,logpdf_joints_yn,preq_loglik,x,rho,rho_x\n",
        "    return carry,i\n",
        "  \n",
        "#Scan over y_{1:n}\n",
        "@jit\n",
        "def update_pn_scan(carry,rng):\n",
        "    return scan(update_pn,carry,rng)\n",
        "\n",
        "#Initialize marginal p_0\n",
        "def init_marginals_single(y_test):\n",
        "    d = jnp.shape(y_test)[0]\n",
        "\n",
        "    #initialize\n",
        "    logcdf_init_marginals = jnp.zeros(d)\n",
        "    logpdf_init_marginals = jnp.zeros(d)\n",
        "\n",
        "    logcdf_init_conditionals = jnp.zeros(d)\n",
        "    logpdf_init_joints = jnp.ones(d)\n",
        "\n",
        "    ##CONTINUOUS CASE\n",
        "    #normal(0,1)\n",
        "    mean0 = 0.\n",
        "    std0 = 1.\n",
        "\n",
        "    logcdf_init_marginals = norm.logcdf(y_test,loc = mean0,scale = std0)#marginal initial cdfs\n",
        "    logpdf_init_marginals= norm.logpdf(y_test,loc = mean0,scale = std0) #marginal initial pdfs\n",
        "\n",
        "    #clip outliers\n",
        "    eps = 1e-6\n",
        "    logcdf_init_marginals = jnp.clip(logcdf_init_marginals,jnp.log(eps),jnp.log(1-eps))\n",
        "    logpdf_init_marginals =jnp.clip(logpdf_init_marginals, jnp.log(eps),jnp.inf)\n",
        "    ##\n",
        "    \n",
        "    #Joint/conditional from marginals\n",
        "    logpdf_init_joints= jnp.cumsum(logpdf_init_marginals)\n",
        "    logcdf_init_conditionals= logcdf_init_marginals\n",
        "\n",
        "    return  logcdf_init_conditionals,logpdf_init_joints\n",
        "init_marginals = jit(vmap(init_marginals_single,(0)))\n",
        "\n",
        "@jit\n",
        "def update_pn_loop(rho,rho_x,y,x):\n",
        "    n = jnp.shape(y)[0]\n",
        "    preq_loglik = jnp.zeros((n,1)) #prequential joint loglik for y | x\n",
        "    vn = jnp.zeros((n,1)) #conditional cdf history of yn, no need to differentiate wrt\n",
        "\n",
        "    #initialize cdf/pdf\n",
        "    init_marginals = jit(vmap(init_marginals_single,(0)))\n",
        "    logcdf_conditionals_yn, logpdf_joints_yn= init_marginals(y)\n",
        "\n",
        "    carry = vn,logcdf_conditionals_yn,logpdf_joints_yn,preq_loglik,x,rho,rho_x\n",
        "    rng = jnp.arange(n)\n",
        "    carry,rng = update_pn_scan(carry,rng)\n",
        "\n",
        "    vn,logcdf_conditionals_yn,logpdf_joints_yn,preq_loglik,*_ = carry\n",
        "\n",
        "    return vn,logcdf_conditionals_yn,logpdf_joints_yn,preq_loglik\n",
        "update_pn_loop_perm = jit(vmap(update_pn_loop,(None,None,0,0)))\n"
      ],
      "metadata": {
        "id": "2L9Ed6so-2bx"
      },
      "execution_count": 20,
      "outputs": []
    },
    {
      "cell_type": "code",
      "source": [
        "@jit\n",
        "def negpreq_cconditloglik_perm(hyperparam,y_perm,x_perm):\n",
        "    rho = 1/(1+jnp.exp(hyperparam[0])) #force 0 <rho<1\n",
        "    rho_x = 1/(1+jnp.exp(hyperparam[1:]))#force 0<rho_x < 1\n",
        "\n",
        "    n = jnp.shape(y_perm)[1]\n",
        "\n",
        "    #Compute v_{1:n} and prequential loglik\n",
        "    vn,logcdf_conditionals_yn,logpdf_joints_yn,preq_loglik = update_pn_loop_perm(rho,rho_x,y_perm,x_perm)\n",
        "\n",
        "    #Average over permutations\n",
        "    preq_loglik = jnp.mean(preq_loglik,axis = 0)\n",
        "\n",
        "    #Sum prequential terms\n",
        "    preq_jointloglik = jnp.sum(preq_loglik[:,-1]) #only look at joint pdf\n",
        "    return -preq_jointloglik/n\n",
        "\n",
        "def fun_ccll_perm_sp(hyperparam,y_perm,x_perm):\n",
        "    return np.array(negpreq_cconditloglik_perm(hyperparam,y_perm,x_perm))\n",
        "\n",
        "def grad_ccll_perm_sp(hyperparam,y_perm,x_perm):\n",
        "  grad_ccll_perm = jit(grad(negpreq_cconditloglik_perm))\n",
        "  return np.array(grad_ccll_perm(hyperparam,y_perm,x_perm)) "
      ],
      "metadata": {
        "id": "HLEJAuYV-Ur6"
      },
      "execution_count": 21,
      "outputs": []
    },
    {
      "cell_type": "code",
      "source": [
        "def fit_copula_cregression(y,x,n_perm = 10, seed = 20,n_perm_optim = None,single_x_bandwidth = True):\n",
        "    #Set seed for scipy\n",
        "    np.random.seed(seed)\n",
        "\n",
        "    #Generate random permutations\n",
        "    key = PRNGKey(seed)\n",
        "    key,*subkey = split(key,n_perm +1 )\n",
        "    subkey = jnp.array(subkey)\n",
        "    y_perm = vmap(permutation,(0,None))(subkey,y).reshape(n_perm,-1,1)\n",
        "    x_perm = vmap(permutation,(0,None))(subkey,x)\n",
        "\n",
        "    #Initialize parameter and put on correct scale to lie in [0,1]\n",
        "    d = jnp.shape(x)[1]\n",
        "    if single_x_bandwidth ==True:\n",
        "        rho_init = 0.8*jnp.ones(2) \n",
        "    else: \n",
        "        rho_init = 0.8*jnp.ones(d+1)\n",
        "    hyperparam_init = jnp.log(1/rho_init - 1) \n",
        "\n",
        "    #calculate rho_opt\n",
        "    #either use all permutations or a selected number to fit bandwidth\n",
        "    if n_perm_optim is None:\n",
        "        y_perm_opt = y_perm\n",
        "        x_perm_opt = x_perm\n",
        "    else:\n",
        "        y_perm_opt = y_perm[0:n_perm_optim]\n",
        "        x_perm_opt = x_perm[0:n_perm_optim]\n",
        "\n",
        "    #Compiling\n",
        "    print('Compiling...')\n",
        "    start = time.time()\n",
        "    temp = fun_ccll_perm_sp(hyperparam_init,y_perm_opt,x_perm_opt)\n",
        "    temp = grad_ccll_perm_sp(hyperparam_init,y_perm_opt,x_perm_opt)\n",
        "\n",
        "    update_pn_loop_perm = jit(vmap(update_pn_loop,(None,None,0,0)))\n",
        "    temp = update_pn_loop_perm(hyperparam_init[0],hyperparam_init[1:],y_perm,x_perm)[0].block_until_ready()\n",
        "    end = time.time()\n",
        "    print('Compilation time: {}s'.format(round(end-start, 3)))\n",
        "\n",
        "    print('Optimizing...')\n",
        "    start = time.time()\n",
        "    # Condit preq loglik\n",
        "    opt = minimize(fun = fun_ccll_perm_sp, x0= hyperparam_init,\\\n",
        "             args = (y_perm_opt,x_perm_opt),jac =grad_ccll_perm_sp,method = 'SLSQP',options={'maxiter':100, 'ftol': 1e-4})\n",
        "    #check optimization succeeded\n",
        "    if opt.success == False:\n",
        "        print('Optimization failed')\n",
        "\n",
        "    #unscale hyperparameter\n",
        "    hyperparam_opt = opt.x\n",
        "    rho_opt = 1/(1+jnp.exp(hyperparam_opt[0]))\n",
        "    #l_scale_opt = jnp.exp(hyperparam_opt[1:])\n",
        "    rho_opt_x = 1/(1+jnp.exp(hyperparam_opt[1:]))\n",
        "    end = time.time()\n",
        "\n",
        "\n",
        "    print('Optimization time: {}s'.format(round(end-start, 3)))\n",
        "        \n",
        "    print('Fitting...')\n",
        "\n",
        "    start = time.time()\n",
        "    update_pn_loop_perm = jit(vmap(update_pn_loop,(None,None,0,0)))\n",
        "    vn_perm= update_pn_loop_perm(rho_opt,rho_opt_x,y_perm,x_perm)[0].block_until_ready()\n",
        "    end = time.time()\n",
        "    print('Fit time: {}s'.format(round(end-start, 3)))\n",
        "\n",
        "    copula_cregression_obj = namedtuple('copula_cregression_obj',['vn_perm','rho_opt','rho_x_opt','preq_loglik','x_perm'])\n",
        "    return copula_cregression_obj(vn_perm,rho_opt,rho_opt_x,-opt.fun,x_perm)\n"
      ],
      "metadata": {
        "id": "0vczLsEZ9uLY"
      },
      "execution_count": 22,
      "outputs": []
    },
    {
      "cell_type": "code",
      "source": [
        "### CONDITIONAL COPULA METHOD ###\n",
        "print('Method: Conditional Copula')\n",
        "\n",
        "copula_cregression_obj = fit_copula_cregression(jnp.array(y),jnp.array(x),single_x_bandwidth = False,n_perm_optim = 10)\n",
        "print(copula_cregression_obj.rho_opt)\n",
        "print(copula_cregression_obj.rho_x_opt)\n",
        "print(copula_cregression_obj.preq_loglik)\n",
        "\n"
      ],
      "metadata": {
        "colab": {
          "base_uri": "https://localhost:8080/"
        },
        "id": "Sg6aPk952JaL",
        "outputId": "7079b355-0417-4d57-e7d3-e06ead9c62fa"
      },
      "execution_count": 23,
      "outputs": [
        {
          "output_type": "stream",
          "name": "stdout",
          "text": [
            "Method: Conditional Copula\n",
            "Compiling...\n",
            "Compilation time: 12.127s\n",
            "Optimizing...\n",
            "Optimization time: 63.716s\n",
            "Fitting...\n",
            "Fit time: 1.603s\n",
            "0.8172979\n",
            "[0.9390087]\n",
            "-0.0006451499\n"
          ]
        }
      ]
    },
    {
      "cell_type": "markdown",
      "source": [
        "###Helper Functions for $\\texttt{predict_copula_cregression}$\n"
      ],
      "metadata": {
        "id": "AlrVAMxBS6iJ"
      }
    },
    {
      "cell_type": "code",
      "source": [
        "@jit\n",
        "def norm_copula_logdistribution_logdensity(u,v,rho):\n",
        "    #clip to prevent 0s and 1s in CDF, needed for numerical stability in high d.\n",
        "    eps = 1e-6\n",
        "    u = jnp.clip(u,eps,1-eps) \n",
        "    v = jnp.clip(v,eps,1-eps)\n",
        "    \n",
        "    #for reverse mode\n",
        "    pu = ndtri_(u)\n",
        "    pv = ndtri_(v)\n",
        "    z = (pu - rho*pv)/jnp.sqrt(1- rho**2)\n",
        "\n",
        "    logcop_dist = norm_logcdf(z)\n",
        "    logcop_dist = jnp.clip(logcop_dist,jnp.log(eps),jnp.log(1-eps))\n",
        "    logcop_dens = -0.5*jnp.log(1-rho**2) + (0.5/(1-rho**2))*(-(rho**2)*(pu**2 + pv**2)+ 2*rho*pu*pv)\n",
        "\n",
        "    return logcop_dist,logcop_dens\n",
        "\n",
        "#Compute copula update for a single data point\n",
        "def update_copula_single(logcdf_conditionals,logpdf_joints,u,v,logalpha,rho): \n",
        "    d = jnp.shape(logpdf_joints)[0]\n",
        "\n",
        "    logcop_distribution,logcop_dens = norm_copula_logdistribution_logdensity(u,v,rho)\n",
        "\n",
        "    #Calculate product copulas\n",
        "    logcop_dens_prod = jnp.cumsum(logcop_dens)\n",
        "\n",
        "    #staggered 1 step to calculate conditional cdfs\n",
        "    logcop_dens_prod_staggered = jnp.concatenate((jnp.zeros(1),logcop_dens_prod[0:d-1]))\n",
        "\n",
        "    log1alpha = jnp.log1p(-jnp.exp(logalpha))\n",
        "\n",
        "    logcdf_conditionals = jnp.logaddexp((log1alpha + logcdf_conditionals),(logalpha + logcop_dens_prod_staggered + logcop_distribution))\\\n",
        "                           -jnp.logaddexp(log1alpha,(logalpha+logcop_dens_prod_staggered))\n",
        "\n",
        "    logpdf_joints = jnp.logaddexp(log1alpha, (logalpha+logcop_dens_prod))+logpdf_joints     \n",
        "\n",
        "    return logcdf_conditionals,logpdf_joints\n",
        "\n",
        "@jit\n",
        "def update_ptest_single(carry,i):\n",
        "    vn,logcdf_conditionals_ytest,logpdf_joints_ytest,x,x_test,rho,rho_x = carry\n",
        "\n",
        "    x_new = x[i]\n",
        "    logalpha = jnp.log(2.- (1/(i+1)))-jnp.log(i+2)\n",
        "\n",
        "    #compute x rhos/alphas\n",
        "    logk_xx = calc_logkxx_single(x_test,x_new,rho_x)\n",
        "    \n",
        "    logalphak_xx = logalpha + logk_xx\n",
        "    log1alpha = jnp.log1p(-jnp.exp(logalpha))\n",
        "    logalpha_x = (logalphak_xx) - (jnp.logaddexp(log1alpha,logalphak_xx))\n",
        "\n",
        "    #clip for numerical stability to prevent NaNs\n",
        "    eps = 1e-5 #1e-6 causes optimization to fail\n",
        "    logalpha_x = jnp.clip(logalpha_x,jnp.log(eps),jnp.log(1-eps))\n",
        "\n",
        "    u = jnp.exp(logcdf_conditionals_ytest)\n",
        "    v = vn[i]\n",
        "\n",
        "    logcdf_conditionals_ytest,logpdf_joints_ytest= update_copula_single(logcdf_conditionals_ytest,logpdf_joints_ytest,u,v,logalpha_x,rho)\n",
        "\n",
        "    carry = vn,logcdf_conditionals_ytest,logpdf_joints_ytest,x,x_test,rho,rho_x\n",
        "    return carry,i\n",
        "\n",
        "#Scan over n observed data\n",
        "@jit\n",
        "def update_ptest_single_scan(carry,rng):\n",
        "    return scan(update_ptest_single,carry,rng)\n",
        "\n",
        "@jit\n",
        "def update_ptest_single_loop(vn,rho,rho_x,x,y_test,x_test):\n",
        "    n = jnp.shape(vn)[0]\n",
        "\n",
        "    logcdf_conditionals_ytest, logpdf_joints_ytest= init_marginals_single(y_test)\n",
        "\n",
        "    carry = vn,logcdf_conditionals_ytest,logpdf_joints_ytest,x,x_test,rho,rho_x\n",
        "    rng = jnp.arange(n)\n",
        "    carry,rng = update_ptest_single_scan(carry,rng)\n",
        "    vn,logcdf_conditionals_ytest,logpdf_joints_ytest,x,x_test,rho,rho_x = carry\n",
        "\n",
        "    return logcdf_conditionals_ytest,logpdf_joints_ytest\n",
        "\n",
        "update_ptest_single_loop_perm = jit(vmap(update_ptest_single_loop,(0,None,None,0,None,None))) #vmap over vn_perm\n",
        "\n",
        "@jit\n",
        "def update_ptest_single_loop_perm_av(vn_perm,rho,rho_x,x_perm,y_test,x_test):\n",
        "    n_perm = jnp.shape(vn_perm)[0]\n",
        "    logcdf_conditionals, logpdf_joints = update_ptest_single_loop_perm(vn_perm,rho,rho_x,x_perm,y_test,x_test)\n",
        "    logcdf_conditionals = logsumexp(logcdf_conditionals,axis = 0) - jnp.log(n_perm)\n",
        "    logpdf_joints = logsumexp(logpdf_joints,axis = 0) - jnp.log(n_perm)\n",
        "    return logcdf_conditionals,logpdf_joints\n",
        "\n",
        "#Vmap over multiple test points\n",
        "update_ptest_loop_perm_av = jit(vmap(update_ptest_single_loop_perm_av,(None,None,None,None,0,0)))"
      ],
      "metadata": {
        "id": "X47AP_1ETeeq"
      },
      "execution_count": 24,
      "outputs": []
    },
    {
      "cell_type": "code",
      "source": [
        "def predict_copula_cregression(copula_cregression_obj,y_test,x_test):\n",
        "    #code loop for now, can speed up to use indices\n",
        "    n_perm = np.shape(copula_cregression_obj.x_perm)[0]\n",
        "    n = np.shape(copula_cregression_obj.x_perm)[1]\n",
        "    n_test = np.shape(x_test)[0]\n",
        "    logk_xx = np.zeros((n_perm,n,n_test))\n",
        "\n",
        "    print('Predicting...')\n",
        "    start = time.time()\n",
        "    logcdf_conditionals,logpdf_joints = update_ptest_loop_perm_av(copula_cregression_obj.vn_perm,copula_cregression_obj.rho_opt\\\n",
        "                                                                         ,copula_cregression_obj.rho_x_opt,copula_cregression_obj.x_perm, y_test.reshape(-1,1),x_test)\n",
        "    logcdf_conditionals = logcdf_conditionals.block_until_ready() #for accurate timing\n",
        "    end = time.time()\n",
        "    print('Prediction time: {}s'.format(round(end-start, 3)))\n",
        "    return logcdf_conditionals,logpdf_joints\n",
        "### ###\n"
      ],
      "metadata": {
        "id": "aR3OLMaTTEQj"
      },
      "execution_count": 25,
      "outputs": []
    },
    {
      "cell_type": "code",
      "source": [
        "logcdf_conditionals,logpdf_joints = predict_copula_cregression(copula_cregression_obj,y_plot_ravel,x_plot_ravel)\n",
        "\n",
        "\n",
        "## Compute predictive means and quantiles\n",
        "pdf_cop_condc = jnp.exp(logpdf_joints)\n",
        "cdf_cop_condc = jnp.exp(logcdf_conditionals)\n",
        "cdf_condc_plot = cdf_cop_condc.reshape(n_plot_marg[1],n_plot_marg[0])\n",
        "pdf_condc_plot = pdf_cop_condc.reshape(n_plot_marg[1],n_plot_marg[0])\n",
        "\n",
        "n_plot_x = np.shape(x_plot)[0]\n",
        "\n",
        "jnp.save('ccopula_lidar_pdf_plot',pdf_condc_plot)\n",
        "jnp.save('ccopula_lidar_cdf_plot',cdf_condc_plot)\n"
      ],
      "metadata": {
        "colab": {
          "base_uri": "https://localhost:8080/"
        },
        "id": "pfKPjluJ9cZ3",
        "outputId": "363e20ce-2474-48ff-e9fc-a509a2266236"
      },
      "execution_count": 26,
      "outputs": [
        {
          "output_type": "stream",
          "name": "stdout",
          "text": [
            "Predicting...\n",
            "Prediction time: 7.596s\n"
          ]
        }
      ]
    },
    {
      "cell_type": "code",
      "source": [
        "pdf_cop_condc = np.load('ccopula_lidar_pdf_plot.npy')\n",
        "cdf_cop_condc = np.load('ccopula_lidar_cdf_plot.npy')\n",
        "\n",
        "cdf_condc_plot = cdf_cop_condc.reshape(n_plot_marg[1],n_plot_marg[0])\n",
        "pdf_condc_plot = pdf_cop_condc.reshape(n_plot_marg[1],n_plot_marg[0])\n",
        "\n",
        "n_plot_x = np.shape(x_plot)[0]\n",
        "\n",
        "bot25_cond = np.zeros(n_plot_x)\n",
        "top25_cond = np.zeros(n_plot_x)\n",
        "mean_cop_cond = np.zeros(n_plot_x)\n",
        "\n",
        "for j in range(n_plot_x):\n",
        "    bot25_cond[j] =y_plot[np.searchsorted(cdf_condc_plot[:,j],0.025)-1]\n",
        "    top25_cond[j] =y_plot[np.searchsorted(cdf_condc_plot[:,j],0.975)-1]\n",
        "    mean_cop_cond[j] = np.sum(pdf_condc_plot[:,j]*y_plot*dy)\n",
        "\n",
        "xlim = (-1.8,1.8)\n",
        "ylim = (-2.6,1.5)\n",
        "    \n",
        "#plot\n",
        "f = plt.figure(figsize = (14,10))\n",
        "plt.plot(x_plot,mean_cop_cond,color = 'k',label = 'Mean')\n",
        "plt.fill_between(x_plot, bot25_cond, top25_cond, alpha = 0.2, label = '95% predictive interval',color = 'grey')\n",
        "plt.scatter(x,y,label = 'Data',s = 5,color = 'k',alpha = 0.3)\n",
        "plt.xlabel('$x$\\n \\n(a)',fontsize = 12)\n",
        "plt.ylabel('$y$',fontsize = 12)\n",
        "plt.xticks(fontsize=12)\n",
        "plt.yticks(fontsize = 12)\n",
        "plt.ylim(ylim)\n",
        "plt.xlim(xlim)\n",
        "plt.title('Conditional Copula Regression Method',fontsize = 13)\n"
      ],
      "metadata": {
        "colab": {
          "base_uri": "https://localhost:8080/",
          "height": 675
        },
        "id": "uPE6IFQbUn1t",
        "outputId": "5be5860b-2e8a-4c0f-cfef-ce9c0faeca2e"
      },
      "execution_count": 27,
      "outputs": [
        {
          "output_type": "execute_result",
          "data": {
            "text/plain": [
              "Text(0.5, 1.0, 'Conditional Copula Regression Method')"
            ]
          },
          "metadata": {},
          "execution_count": 27
        },
        {
          "output_type": "display_data",
          "data": {
            "text/plain": [
              "<Figure size 1008x720 with 1 Axes>"
            ],
            "image/png": "[encoded data removed]"
          },
          "metadata": {
            "needs_background": "light"
          }
        }
      ]
    },
    {
      "cell_type": "markdown",
      "source": [
        "## GP"
      ],
      "metadata": {
        "id": "PSYFtvAKm2Du"
      }
    },
    {
      "cell_type": "code",
      "source": [
        "#Gaussian Process\n",
        "print('Method: GP')\n",
        "from sklearn.gaussian_process.kernels import RBF, ConstantKernel,WhiteKernel \n",
        "from sklearn.gaussian_process import GaussianProcessRegressor\n",
        "kernel =ConstantKernel()*RBF() + WhiteKernel()\n",
        "gp = GaussianProcessRegressor(kernel=kernel, n_restarts_optimizer=10,normalize_y = True)\n",
        "gp.fit(x, y)\n",
        "mean_gp,std_gp = gp.predict(x_plot.reshape(-1,1),return_std = True) \n",
        "jnp.save('gp_lidar_mean',mean_gp)\n",
        "jnp.save('gp_lidar_std',std_gp)"
      ],
      "metadata": {
        "colab": {
          "base_uri": "https://localhost:8080/"
        },
        "id": "ucOojWrLWZH9",
        "outputId": "5a861c37-bf2b-4fc2-bef5-11ce1b40b16b"
      },
      "execution_count": 28,
      "outputs": [
        {
          "output_type": "stream",
          "name": "stdout",
          "text": [
            "Method: GP\n"
          ]
        }
      ]
    },
    {
      "cell_type": "code",
      "source": [
        "mean_gp = np.load('gp_lidar_mean.npy')\n",
        "std_gp = np.load('gp_lidar_std.npy')\n",
        "\n",
        "f = plt.figure(figsize = (14,10))\n",
        "\n",
        "plt.title('GP',fontsize = 13)\n",
        "plt.plot(x_plot,mean_gp,label = 'Predictive mean',color = 'k')\n",
        "plt.fill_between(x_plot, mean_gp + 2*std_gp, mean_gp - 2*std_gp, alpha = 0.2, label = '95% predictive interval',color = 'grey')\n",
        "plt.scatter(x,y,label = 'Data',s = 5,color = 'grey')\n",
        "plt.xlabel('$x$\\n \\n(b)',fontsize = 12)\n",
        "plt.ylabel('$y$',fontsize = 12)\n",
        "plt.xticks(fontsize=12)\n",
        "plt.yticks(fontsize = 12)\n",
        "#plt.legend(loc = 3)\n",
        "plt.ylim(ylim)\n",
        "plt.xlim(xlim)"
      ],
      "metadata": {
        "colab": {
          "base_uri": "https://localhost:8080/",
          "height": 675
        },
        "id": "25q6r8xwUGnc",
        "outputId": "f705b364-6214-4134-ec1c-0e1c4dafe9d3"
      },
      "execution_count": 29,
      "outputs": [
        {
          "output_type": "execute_result",
          "data": {
            "text/plain": [
              "(-1.8, 1.8)"
            ]
          },
          "metadata": {},
          "execution_count": 29
        },
        {
          "output_type": "display_data",
          "data": {
            "text/plain": [
              "<Figure size 1008x720 with 1 Axes>"
            ],
            "image/png": "[encoded data removed]"
          },
          "metadata": {
            "needs_background": "light"
          }
        }
      ]
    },
    {
      "cell_type": "code",
      "source": [],
      "metadata": {
        "id": "wfylKMCe9drH"
      },
      "execution_count": 29,
      "outputs": []
    }
  ]
}